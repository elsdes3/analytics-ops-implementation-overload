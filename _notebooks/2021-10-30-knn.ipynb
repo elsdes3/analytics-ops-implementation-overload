{
 "cells": [
  {
   "cell_type": "markdown",
   "id": "e5064b73-24fd-4756-8f5e-ea541c067f3e",
   "metadata": {
    "tags": []
   },
   "source": [
    "# Manually Implement K-Nearest Neighbours (KNN) from Scratch\n",
    "\n",
    "> A manual implementation of the <a href=\"https://en.wikipedia.org/wiki/K-nearest_neighbors_algorithm\">K-Nearest Neighbours algorithm</a> for <a href=\"https://en.wikipedia.org/wiki/Classification\">classification</a> problems in <a href=\"https://en.wikipedia.org/wiki/Machine_learning\">machine learning</a>.\n",
    "- toc: true\n",
    "- badges: true\n",
    "- comments: true\n",
    "- sticky_rank: 1\n",
    "- categories: [ml-algorithm-from-scratch, knn, nearest-neighbours, machine-learning, python]"
   ]
  },
  {
   "cell_type": "code",
   "execution_count": 1,
   "id": "493fda1f-254e-400b-8a20-1e6f92e8b227",
   "metadata": {},
   "outputs": [],
   "source": [
    "#hide\n",
    "from collections import Counter\n",
    "from multiprocessing import cpu_count\n",
    "\n",
    "import matplotlib.pyplot as plt\n",
    "import numpy as np\n",
    "import pandas as pd\n",
    "import seaborn as sns\n",
    "from joblib import Parallel, delayed\n",
    "from matplotlib.ticker import FuncFormatter\n",
    "from sklearn.base import BaseEstimator, ClassifierMixin\n",
    "from sklearn.datasets import make_classification\n",
    "from sklearn.metrics import DistanceMetric, confusion_matrix\n",
    "from sklearn.model_selection import train_test_split\n",
    "from sklearn.neighbors import KNeighborsClassifier\n",
    "from sklearn.pipeline import Pipeline\n",
    "from sklearn.preprocessing import MinMaxScaler"
   ]
  },
  {
   "cell_type": "code",
   "execution_count": 2,
   "id": "cafc26d3-bec9-41e3-ae84-54c85f385d68",
   "metadata": {},
   "outputs": [],
   "source": [
    "#hide\n",
    "sns.set_context(\"talk\")"
   ]
  },
  {
   "cell_type": "markdown",
   "id": "3a67b54d-2178-4020-9d5d-fbb34dc9a674",
   "metadata": {},
   "source": [
    "## Background"
   ]
  },
  {
   "cell_type": "markdown",
   "id": "56ada20d-71f0-48f1-8a26-5ed5279c3540",
   "metadata": {},
   "source": [
    "The K-Nearest Neighbours (KNN) algorithm is a statistical technique for finding the `k` samples in a dataset that are closest to a new sample that is not in the data. The algorithm can be used in both classification and regression tasks. In order to determine the which samples are closest to the new sample, the Euclidean distance is commonly used. KNN has been used in machine learning in some computer vision tasks such as recognizing hand-written numbers."
   ]
  },
  {
   "cell_type": "markdown",
   "id": "4ec4baf6-d905-4c7e-955c-fc978bdb6de3",
   "metadata": {},
   "source": [
    "## Goal"
   ]
  },
  {
   "cell_type": "markdown",
   "id": "8beb0556-b29a-4e38-90d6-754961c1b4dc",
   "metadata": {},
   "source": [
    "Here, we will go through the manual implementation of this algorithm using Python. Then, we'll use it to perform binary machine learning (ML) classification on a synthetic dataset. Finally, we will compare the performance of this manual implementation of the algorithm to the version that is provided by the `scikit-learn` Python library."
   ]
  },
  {
   "cell_type": "markdown",
   "id": "044e712b-db02-4f55-bdf5-0092619530c9",
   "metadata": {},
   "source": [
    "## Overview of how the KNN algorithm works for ML binary classification"
   ]
  },
  {
   "cell_type": "markdown",
   "id": "a6756dc2-fcd7-4d67-a1b6-dac9dd43c22f",
   "metadata": {},
   "source": [
    "Since the KNN algorithm will be used in an ML classification context, we will make the following assumptions\n",
    "- we can divide our data into two splits, a training split and a testing split\n",
    "  - for each row (observation, or `X` matrix) in the training split, we have the associated class label (or `y`)\n",
    "  - class labels are not required for observations in the test split\n",
    "- for simplicity, we will be working with a binary classification problem so our data will only have two labels (0, or `False`, and 1, or `True`)"
   ]
  },
  {
   "cell_type": "markdown",
   "id": "ebd311d3-1118-40b0-9c3f-143151ef3298",
   "metadata": {},
   "source": [
    "With the above assumption in mind, below is an outline of the working of KNN for ML classification\n",
    "1. We start by calculating the [Euclidean distance](https://en.wikipedia.org/wiki/Euclidean_distance#Higher_dimensions) between each new observation (test data) that is not part of the training data and the training data. In an ML workflow, this means our ML model training will not actually perform any operations since the distance calculation is only left to the prediction phase when we have access to these new observations.\n",
    "2. For each point in the new observations, we sort the distances to all the points in the training data.\n",
    "3. Get the `k` shortest distances from a given point in the test data to every point in the training data.\n",
    "4. From these `k` distances for a single test data point, get the corresponding `k` training data points.\n",
    "5. Per our assumptions, we have class labels for all training data points. So, we will assign a label to a given test data point based on the most common label in the `k` closest training data points found in 4. above. As an example if `k` is 3 then and two of the three closest training data points (to a given test data point) have a class label `1`, then the predicted class label for that test data point will also be `1`."
   ]
  },
  {
   "cell_type": "markdown",
   "id": "3d27df0f-1d2b-4799-ab0c-d8ead20d1486",
   "metadata": {},
   "source": [
    "## Manual Implementation of KNN"
   ]
  },
  {
   "cell_type": "markdown",
   "id": "ec5b7dc6-9675-4267-89c3-6ae6008bcddf",
   "metadata": {},
   "source": [
    "In order to implement this algorithm, we'll create a custom class which accepts only one input parameter - the number of nearest neighbours (`k`) - in its `__init__` method. We'll be following the `scikit-learn` API, so we'll inherit from `scikit-learn`'s `BaseEstimator` and, since we will be using this with a classification problem, `ClassifierMixin` base classes."
   ]
  },
  {
   "cell_type": "markdown",
   "id": "58da49eb-6fc9-44a6-b8b5-74df2bba1ebe",
   "metadata": {},
   "source": [
    "```python\n",
    "class CustomKNN(BaseEstimator, ClassifierMixin):\n",
    "    def __init__(self, k=5):\n",
    "        self.k = k\n",
    "```"
   ]
  },
  {
   "cell_type": "markdown",
   "id": "d049eab5-bb6f-4942-b1ed-ee2ad6c509f0",
   "metadata": {},
   "source": [
    "As mentioned above, explicit training is not required for KNN. So, there is nothing to do during training of the algorithm. However, we do want to follow the assumption we made earlier that our training data is clearly separated from our testing data. Since only the training data is used during ML model training, we'll assign the data that can be accessed by the `.fit()` method (i.e. ML model training) to be the training observations (`X_train`) and training class labels (`y_train`). This way, when using the KNN algorithm to make predictions on new observations, we can refer back to these variables (`X_train` and `y_train`) and know that they exclude the new observations for which we want to predict class labels. These two variables will only exist after the `.fit()` method has been called, so trying to make predictions without first training the ML model (in this case, identifying the training data) will fail."
   ]
  },
  {
   "cell_type": "markdown",
   "id": "c0539d38-e1c1-493a-9a6e-7a1bbc9d2f94",
   "metadata": {},
   "source": [
    "```python\n",
    "    def fit(self, X, y):\n",
    "        self.X_train = X\n",
    "        self.y_train = y\n",
    "```"
   ]
  },
  {
   "cell_type": "markdown",
   "id": "608cf39b-5d9f-4d6a-80a5-643f332701dd",
   "metadata": {},
   "source": [
    "It is during prediction of the class labels that the KNN algorithm does its work. So, in our class' `.predict()` method, we'll implement the above details of this algorithm. We'll iterate over each new (test) data point and then call a helper function `make_single_prediction()` that does the following\n",
    "1. calculate Eulidean distance between the selected test data point and all training data points\n",
    "2. find the `k` shortest distances\n",
    "3. get the corresponding training data class labels for each of the `k` shortest distances\n",
    "   - these will be the labels for the `k` training data points closest to the selected test data point\n",
    "4. return the most commonly occuring training data label, among the `k` closest training data points, as the predicted label for the selected test data point\n",
    "\n",
    "This process will be repeated for all other test data points.\n",
    "\n",
    "The Python code to implement this is shown below, with comments indicating the code for each of these four steps"
   ]
  },
  {
   "cell_type": "markdown",
   "id": "10a9bd09-4266-4fdc-be6b-c8534049e8db",
   "metadata": {},
   "source": [
    "```python\n",
    "def get_euclidean_distance(array_1, array_2):\n",
    "    # built-in approach\n",
    "    dist = DistanceMetric.get_metric(\"euclidean\")\n",
    "    X = [array_1, array_2]\n",
    "    dist_matrix = dist.pairwise(X)\n",
    "    # # Manual approach\n",
    "    # dist_manual = np.sqrt(np.sum((array_1 - array_2) ** 2))\n",
    "    # assert dist_manual == dist_matrix[0, 1]\n",
    "    return dist_matrix[0, 1]\n",
    "\n",
    "\n",
    "def use_probabilities_to_get_labels(y_train_labels, threshold=0.5):\n",
    "    y_pred_proba = np.mean(y_train_labels)\n",
    "    y_pred = 0 if y_pred_proba < threshold else 1\n",
    "    return y_pred\n",
    "\n",
    "\n",
    "@staticmethod\n",
    "def make_single_prediction(X_test, X_train, y_train, k):\n",
    "    # 1. Compute distances between x and all examples in the training set\n",
    "    distances = [get_euclidean_distance(X_test, X_train) for X_train in X_train]\n",
    "    # 2. Sort by distance and return indices of the first k neighbors\n",
    "    k_idx = np.argsort(distances)[:k]\n",
    "    # 3. Extract the labels of the k nearest neighbor training samples\n",
    "    # y_train_k_neighbour_labels = [y_train[i] for i in k_idx]\n",
    "    y_train_k_neighbour_labels = y_train[k_idx]\n",
    "    # 4. return the most common class label\n",
    "    # # without using probabilities\n",
    "    y_pred = Counter(y_train_k_neighbour_labels).most_common(1)[0][0]\n",
    "    # # (optional) using probabilities\n",
    "    y_pred = use_probabilities_to_get_labels(y_train_k_neighbour_labels, 0.5)\n",
    "    return y_pred\n",
    "\n",
    "def predict(self, X):\n",
    "    y_pred = np.array(\n",
    "        [\n",
    "            self.make_single_prediction(obs, self.X_train, self.y_train, self.k)\n",
    "            for obs in X\n",
    "        ]\n",
    "    )\n",
    "    return y_pred\n",
    "```"
   ]
  },
  {
   "cell_type": "markdown",
   "id": "d442b90e-4a2f-4995-85e6-5f75b47be30a",
   "metadata": {},
   "source": [
    "where\n",
    "- `get_euclidean_distance()`\n",
    "  - calculate Euclidean distance between two points)\n",
    "- `use_probabilities_to_get_labels()`\n",
    "  - convert prediction probabilities into hard labels using a user-adjustable discrimination threshold of 0.5\n",
    "\n",
    "are standalone Python functions while `make_single_prediction()` is a static method ([1](https://www.programiz.com/python-programming/methods/built-in/staticmethod), [2](https://docs.python.org/3/library/functions.html#staticmethod)) for our `CustomKNN` class."
   ]
  },
  {
   "cell_type": "markdown",
   "id": "afeec15b-78aa-40fd-93bb-088d38b09f18",
   "metadata": {},
   "source": [
    "The final custom KNN class and commented versions of the two standalone functions are shown below"
   ]
  },
  {
   "cell_type": "code",
   "execution_count": 3,
   "id": "9e09da3a-bb80-47db-9708-7a76f5b6e4fc",
   "metadata": {},
   "outputs": [],
   "source": [
    "def get_euclidean_distance(array_1, array_2):\n",
    "    # built-in approach\n",
    "    dist = DistanceMetric.get_metric(\"euclidean\")\n",
    "    X = [array_1, array_2]\n",
    "    dist_matrix = dist.pairwise(X)\n",
    "    # # Manual approach\n",
    "    # dist_manual = np.sqrt(np.sum((array_1 - array_2) ** 2))\n",
    "    # assert dist_manual == dist_matrix[0, 1]\n",
    "    return dist_matrix[0, 1]\n",
    "\n",
    "\n",
    "def use_probabilities_to_get_labels(y_train_labels, threshold=0.5):\n",
    "    # get average of training labels\n",
    "    y_pred_proba = np.mean(y_train_labels)\n",
    "    # assign test labels by comparing average label value to threshold\n",
    "    y_pred = 0 if y_pred_proba < threshold else 1\n",
    "    return y_pred"
   ]
  },
  {
   "cell_type": "code",
   "execution_count": 4,
   "id": "e7ae9f63-9d7f-4c30-b5e1-f303b9782f7c",
   "metadata": {},
   "outputs": [],
   "source": [
    "class CustomKNN(BaseEstimator, ClassifierMixin):\n",
    "    def __init__(self, k=5, threshold=None):\n",
    "        self.k = k\n",
    "        self.threshold = threshold\n",
    "\n",
    "    def fit(self, X, y):\n",
    "        self.X_train = X\n",
    "        self.y_train = y\n",
    "\n",
    "\n",
    "    @staticmethod\n",
    "    def make_single_prediction(test_obs_indx, X_test_obs, X_train, y_train, k, threshold=None):\n",
    "        # 1. Compute distances between x and all examples in the training set\n",
    "        distances = [get_euclidean_distance(X_test_obs, X_train) for X_train in X_train]\n",
    "        \n",
    "        # 2. Sort by distance and return indices of the first k neighbors\n",
    "        k_idx = np.argsort(distances)[:k]\n",
    "        \n",
    "        # 3. Extract the labels of the k nearest neighbor training samples\n",
    "        y_train_k_neighbour_labels = y_train[k_idx]\n",
    "        \n",
    "        # 4. return the most common class label\n",
    "        if not threshold or len(set(y_train)) > 2:\n",
    "            # without using probabilities (binary or multi-class)\n",
    "            y_pred = Counter(y_train_k_neighbour_labels).most_common(1)[0][0]\n",
    "        else:\n",
    "            # using probabilities (binary only)\n",
    "            y_pred = use_probabilities_to_get_labels(\n",
    "                y_train_k_neighbour_labels, threshold\n",
    "            )\n",
    "        return [test_obs_indx, y_pred]\n",
    "\n",
    "\n",
    "    def predict(self, X):\n",
    "        executor = Parallel(n_jobs=cpu_count(), backend='multiprocessing')\n",
    "        tasks = (\n",
    "            delayed(self.make_single_prediction)(\n",
    "                idx, test_obs, self.X_train, self.y_train, self.k\n",
    "            )\n",
    "            for idx, test_obs in enumerate(X)\n",
    "        )\n",
    "        y_pred = np.array(executor(tasks))\n",
    "\n",
    "        # sort by index (first column) to ensure same index as X, and\n",
    "        # get extract second column (labels)\n",
    "        y_pred = y_pred[np.argsort(y_pred[:, 0])][:, 1]\n",
    "        return y_pred"
   ]
  },
  {
   "cell_type": "markdown",
   "id": "1c471f65-d555-4215-aaed-6a1d7cb736cc",
   "metadata": {},
   "source": [
    "Two changes has been made to the above class\n",
    "- as an alternative to taking the most commonly occuring label among the the `k` closest training data labels, we could calculate the average value of the `k` training labels and compare this to a threshold (for example, 0.5). If the average value is less than 0.5 then we will assign 0, otherwise we'll asisgn 1.\n",
    "  - in the class, this is done if a threshold is specified as the `threshold` input parameter\n",
    "- the iteration over each observation in the test data is parallelized to reduce the time required to run the algorithm"
   ]
  },
  {
   "cell_type": "markdown",
   "id": "072e3322-a323-461e-87c5-678bc87da1f7",
   "metadata": {},
   "source": [
    "## Using the manual KNN implementation with data"
   ]
  },
  {
   "cell_type": "markdown",
   "id": "c0eb5068-18b3-4c74-8e4c-730a5362c85e",
   "metadata": {},
   "source": [
    "In order to compare this algorithm to the version provided by `scikit-learn`, we'll generate 15,000 observations of synthetic classification data with `scikit-learn`'s `make_classification()` data generator. We'll specify that 10 columns are to be creaed, nine of which are useful for predecting the binary class labels"
   ]
  },
  {
   "cell_type": "code",
   "execution_count": 5,
   "id": "76c84e16-d104-4358-bc3c-a3abf26dcafa",
   "metadata": {
    "tags": [
     "parameters"
    ]
   },
   "outputs": [],
   "source": [
    "nrows = 15_000\n",
    "n_feats = 10\n",
    "n_informative_feats = 9\n",
    "noise_factor = 30\n",
    "flip_y = 0.4"
   ]
  },
  {
   "cell_type": "code",
   "execution_count": 6,
   "id": "5398a098-daa3-4dd0-acc9-169aecd3508e",
   "metadata": {},
   "outputs": [],
   "source": [
    "X, y = make_classification(\n",
    "    n_samples=nrows,\n",
    "    n_features=n_feats,\n",
    "    n_informative=n_informative_feats,\n",
    "    n_redundant=0,\n",
    "    n_classes=2,\n",
    "    flip_y=flip_y,  # values closer to 1.0 increase difficulty of classification\n",
    "    n_clusters_per_class=1,\n",
    "    class_sep=1.0,\n",
    "    random_state=0,\n",
    ")\n",
    "df_X = pd.DataFrame(X, columns=[f\"var_{f_i}\" for f_i in range(1, 10+1)])\n",
    "s_y = pd.Series(y, name=\"target\")"
   ]
  },
  {
   "cell_type": "markdown",
   "id": "435f4247-3d69-4726-ad4b-12ca1fa6174c",
   "metadata": {},
   "source": [
    "The first 10 rows of the generated dataset are shown below"
   ]
  },
  {
   "cell_type": "code",
   "execution_count": 7,
   "id": "bda430e2-de99-471b-948b-ba52cc037cea",
   "metadata": {},
   "outputs": [
    {
     "data": {
      "text/html": [
       "<style type=\"text/css\">\n",
       "</style>\n",
       "<table id=\"T_6989a_\">\n",
       "  <caption>First ten rows of independent (var_*) and dependent (target) variables in the data</caption>\n",
       "  <thead>\n",
       "    <tr>\n",
       "      <th class=\"blank level0\" >&nbsp;</th>\n",
       "      <th class=\"col_heading level0 col0\" >var_1</th>\n",
       "      <th class=\"col_heading level0 col1\" >var_2</th>\n",
       "      <th class=\"col_heading level0 col2\" >var_3</th>\n",
       "      <th class=\"col_heading level0 col3\" >var_4</th>\n",
       "      <th class=\"col_heading level0 col4\" >var_5</th>\n",
       "      <th class=\"col_heading level0 col5\" >var_6</th>\n",
       "      <th class=\"col_heading level0 col6\" >var_7</th>\n",
       "      <th class=\"col_heading level0 col7\" >var_8</th>\n",
       "      <th class=\"col_heading level0 col8\" >var_9</th>\n",
       "      <th class=\"col_heading level0 col9\" >var_10</th>\n",
       "      <th class=\"col_heading level0 col10\" >target</th>\n",
       "    </tr>\n",
       "  </thead>\n",
       "  <tbody>\n",
       "    <tr>\n",
       "      <th id=\"T_6989a_level0_row0\" class=\"row_heading level0 row0\" >0</th>\n",
       "      <td id=\"T_6989a_row0_col0\" class=\"data row0 col0\" >-1.351</td>\n",
       "      <td id=\"T_6989a_row0_col1\" class=\"data row0 col1\" >-2.093</td>\n",
       "      <td id=\"T_6989a_row0_col2\" class=\"data row0 col2\" >0.975</td>\n",
       "      <td id=\"T_6989a_row0_col3\" class=\"data row0 col3\" >2.314</td>\n",
       "      <td id=\"T_6989a_row0_col4\" class=\"data row0 col4\" >-0.542</td>\n",
       "      <td id=\"T_6989a_row0_col5\" class=\"data row0 col5\" >3.762</td>\n",
       "      <td id=\"T_6989a_row0_col6\" class=\"data row0 col6\" >-2.942</td>\n",
       "      <td id=\"T_6989a_row0_col7\" class=\"data row0 col7\" >-0.499</td>\n",
       "      <td id=\"T_6989a_row0_col8\" class=\"data row0 col8\" >-0.676</td>\n",
       "      <td id=\"T_6989a_row0_col9\" class=\"data row0 col9\" >2.150</td>\n",
       "      <td id=\"T_6989a_row0_col10\" class=\"data row0 col10\" >0</td>\n",
       "    </tr>\n",
       "    <tr>\n",
       "      <th id=\"T_6989a_level0_row1\" class=\"row_heading level0 row1\" >1</th>\n",
       "      <td id=\"T_6989a_row1_col0\" class=\"data row1 col0\" >-2.368</td>\n",
       "      <td id=\"T_6989a_row1_col1\" class=\"data row1 col1\" >0.212</td>\n",
       "      <td id=\"T_6989a_row1_col2\" class=\"data row1 col2\" >2.423</td>\n",
       "      <td id=\"T_6989a_row1_col3\" class=\"data row1 col3\" >0.135</td>\n",
       "      <td id=\"T_6989a_row1_col4\" class=\"data row1 col4\" >0.249</td>\n",
       "      <td id=\"T_6989a_row1_col5\" class=\"data row1 col5\" >-3.654</td>\n",
       "      <td id=\"T_6989a_row1_col6\" class=\"data row1 col6\" >-0.815</td>\n",
       "      <td id=\"T_6989a_row1_col7\" class=\"data row1 col7\" >1.223</td>\n",
       "      <td id=\"T_6989a_row1_col8\" class=\"data row1 col8\" >0.934</td>\n",
       "      <td id=\"T_6989a_row1_col9\" class=\"data row1 col9\" >-0.505</td>\n",
       "      <td id=\"T_6989a_row1_col10\" class=\"data row1 col10\" >0</td>\n",
       "    </tr>\n",
       "    <tr>\n",
       "      <th id=\"T_6989a_level0_row2\" class=\"row_heading level0 row2\" >2</th>\n",
       "      <td id=\"T_6989a_row2_col0\" class=\"data row2 col0\" >0.039</td>\n",
       "      <td id=\"T_6989a_row2_col1\" class=\"data row2 col1\" >0.269</td>\n",
       "      <td id=\"T_6989a_row2_col2\" class=\"data row2 col2\" >-0.502</td>\n",
       "      <td id=\"T_6989a_row2_col3\" class=\"data row2 col3\" >0.205</td>\n",
       "      <td id=\"T_6989a_row2_col4\" class=\"data row2 col4\" >-0.251</td>\n",
       "      <td id=\"T_6989a_row2_col5\" class=\"data row2 col5\" >0.290</td>\n",
       "      <td id=\"T_6989a_row2_col6\" class=\"data row2 col6\" >-2.112</td>\n",
       "      <td id=\"T_6989a_row2_col7\" class=\"data row2 col7\" >0.963</td>\n",
       "      <td id=\"T_6989a_row2_col8\" class=\"data row2 col8\" >-1.284</td>\n",
       "      <td id=\"T_6989a_row2_col9\" class=\"data row2 col9\" >2.250</td>\n",
       "      <td id=\"T_6989a_row2_col10\" class=\"data row2 col10\" >1</td>\n",
       "    </tr>\n",
       "    <tr>\n",
       "      <th id=\"T_6989a_level0_row3\" class=\"row_heading level0 row3\" >3</th>\n",
       "      <td id=\"T_6989a_row3_col0\" class=\"data row3 col0\" >-1.890</td>\n",
       "      <td id=\"T_6989a_row3_col1\" class=\"data row3 col1\" >-0.034</td>\n",
       "      <td id=\"T_6989a_row3_col2\" class=\"data row3 col2\" >-0.001</td>\n",
       "      <td id=\"T_6989a_row3_col3\" class=\"data row3 col3\" >3.669</td>\n",
       "      <td id=\"T_6989a_row3_col4\" class=\"data row3 col4\" >-2.930</td>\n",
       "      <td id=\"T_6989a_row3_col5\" class=\"data row3 col5\" >1.354</td>\n",
       "      <td id=\"T_6989a_row3_col6\" class=\"data row3 col6\" >0.505</td>\n",
       "      <td id=\"T_6989a_row3_col7\" class=\"data row3 col7\" >-0.614</td>\n",
       "      <td id=\"T_6989a_row3_col8\" class=\"data row3 col8\" >-1.797</td>\n",
       "      <td id=\"T_6989a_row3_col9\" class=\"data row3 col9\" >-1.236</td>\n",
       "      <td id=\"T_6989a_row3_col10\" class=\"data row3 col10\" >1</td>\n",
       "    </tr>\n",
       "    <tr>\n",
       "      <th id=\"T_6989a_level0_row4\" class=\"row_heading level0 row4\" >4</th>\n",
       "      <td id=\"T_6989a_row4_col0\" class=\"data row4 col0\" >-1.376</td>\n",
       "      <td id=\"T_6989a_row4_col1\" class=\"data row4 col1\" >-2.345</td>\n",
       "      <td id=\"T_6989a_row4_col2\" class=\"data row4 col2\" >-1.106</td>\n",
       "      <td id=\"T_6989a_row4_col3\" class=\"data row4 col3\" >3.706</td>\n",
       "      <td id=\"T_6989a_row4_col4\" class=\"data row4 col4\" >2.350</td>\n",
       "      <td id=\"T_6989a_row4_col5\" class=\"data row4 col5\" >0.329</td>\n",
       "      <td id=\"T_6989a_row4_col6\" class=\"data row4 col6\" >1.900</td>\n",
       "      <td id=\"T_6989a_row4_col7\" class=\"data row4 col7\" >1.232</td>\n",
       "      <td id=\"T_6989a_row4_col8\" class=\"data row4 col8\" >-1.652</td>\n",
       "      <td id=\"T_6989a_row4_col9\" class=\"data row4 col9\" >-2.146</td>\n",
       "      <td id=\"T_6989a_row4_col10\" class=\"data row4 col10\" >0</td>\n",
       "    </tr>\n",
       "    <tr>\n",
       "      <th id=\"T_6989a_level0_row5\" class=\"row_heading level0 row5\" >5</th>\n",
       "      <td id=\"T_6989a_row5_col0\" class=\"data row5 col0\" >-1.286</td>\n",
       "      <td id=\"T_6989a_row5_col1\" class=\"data row5 col1\" >-0.143</td>\n",
       "      <td id=\"T_6989a_row5_col2\" class=\"data row5 col2\" >-0.912</td>\n",
       "      <td id=\"T_6989a_row5_col3\" class=\"data row5 col3\" >0.486</td>\n",
       "      <td id=\"T_6989a_row5_col4\" class=\"data row5 col4\" >-0.216</td>\n",
       "      <td id=\"T_6989a_row5_col5\" class=\"data row5 col5\" >1.437</td>\n",
       "      <td id=\"T_6989a_row5_col6\" class=\"data row5 col6\" >0.712</td>\n",
       "      <td id=\"T_6989a_row5_col7\" class=\"data row5 col7\" >1.190</td>\n",
       "      <td id=\"T_6989a_row5_col8\" class=\"data row5 col8\" >1.809</td>\n",
       "      <td id=\"T_6989a_row5_col9\" class=\"data row5 col9\" >-1.286</td>\n",
       "      <td id=\"T_6989a_row5_col10\" class=\"data row5 col10\" >1</td>\n",
       "    </tr>\n",
       "    <tr>\n",
       "      <th id=\"T_6989a_level0_row6\" class=\"row_heading level0 row6\" >6</th>\n",
       "      <td id=\"T_6989a_row6_col0\" class=\"data row6 col0\" >-2.267</td>\n",
       "      <td id=\"T_6989a_row6_col1\" class=\"data row6 col1\" >-0.931</td>\n",
       "      <td id=\"T_6989a_row6_col2\" class=\"data row6 col2\" >1.427</td>\n",
       "      <td id=\"T_6989a_row6_col3\" class=\"data row6 col3\" >2.336</td>\n",
       "      <td id=\"T_6989a_row6_col4\" class=\"data row6 col4\" >-1.834</td>\n",
       "      <td id=\"T_6989a_row6_col5\" class=\"data row6 col5\" >-0.845</td>\n",
       "      <td id=\"T_6989a_row6_col6\" class=\"data row6 col6\" >-0.657</td>\n",
       "      <td id=\"T_6989a_row6_col7\" class=\"data row6 col7\" >-3.034</td>\n",
       "      <td id=\"T_6989a_row6_col8\" class=\"data row6 col8\" >0.141</td>\n",
       "      <td id=\"T_6989a_row6_col9\" class=\"data row6 col9\" >1.171</td>\n",
       "      <td id=\"T_6989a_row6_col10\" class=\"data row6 col10\" >0</td>\n",
       "    </tr>\n",
       "    <tr>\n",
       "      <th id=\"T_6989a_level0_row7\" class=\"row_heading level0 row7\" >7</th>\n",
       "      <td id=\"T_6989a_row7_col0\" class=\"data row7 col0\" >-0.458</td>\n",
       "      <td id=\"T_6989a_row7_col1\" class=\"data row7 col1\" >0.139</td>\n",
       "      <td id=\"T_6989a_row7_col2\" class=\"data row7 col2\" >1.798</td>\n",
       "      <td id=\"T_6989a_row7_col3\" class=\"data row7 col3\" >2.092</td>\n",
       "      <td id=\"T_6989a_row7_col4\" class=\"data row7 col4\" >2.189</td>\n",
       "      <td id=\"T_6989a_row7_col5\" class=\"data row7 col5\" >2.745</td>\n",
       "      <td id=\"T_6989a_row7_col6\" class=\"data row7 col6\" >-3.283</td>\n",
       "      <td id=\"T_6989a_row7_col7\" class=\"data row7 col7\" >-2.552</td>\n",
       "      <td id=\"T_6989a_row7_col8\" class=\"data row7 col8\" >-2.631</td>\n",
       "      <td id=\"T_6989a_row7_col9\" class=\"data row7 col9\" >1.540</td>\n",
       "      <td id=\"T_6989a_row7_col10\" class=\"data row7 col10\" >0</td>\n",
       "    </tr>\n",
       "    <tr>\n",
       "      <th id=\"T_6989a_level0_row8\" class=\"row_heading level0 row8\" >8</th>\n",
       "      <td id=\"T_6989a_row8_col0\" class=\"data row8 col0\" >-2.245</td>\n",
       "      <td id=\"T_6989a_row8_col1\" class=\"data row8 col1\" >1.740</td>\n",
       "      <td id=\"T_6989a_row8_col2\" class=\"data row8 col2\" >-0.322</td>\n",
       "      <td id=\"T_6989a_row8_col3\" class=\"data row8 col3\" >-0.410</td>\n",
       "      <td id=\"T_6989a_row8_col4\" class=\"data row8 col4\" >0.927</td>\n",
       "      <td id=\"T_6989a_row8_col5\" class=\"data row8 col5\" >-1.926</td>\n",
       "      <td id=\"T_6989a_row8_col6\" class=\"data row8 col6\" >1.171</td>\n",
       "      <td id=\"T_6989a_row8_col7\" class=\"data row8 col7\" >2.617</td>\n",
       "      <td id=\"T_6989a_row8_col8\" class=\"data row8 col8\" >1.393</td>\n",
       "      <td id=\"T_6989a_row8_col9\" class=\"data row8 col9\" >-0.298</td>\n",
       "      <td id=\"T_6989a_row8_col10\" class=\"data row8 col10\" >0</td>\n",
       "    </tr>\n",
       "    <tr>\n",
       "      <th id=\"T_6989a_level0_row9\" class=\"row_heading level0 row9\" >9</th>\n",
       "      <td id=\"T_6989a_row9_col0\" class=\"data row9 col0\" >-0.264</td>\n",
       "      <td id=\"T_6989a_row9_col1\" class=\"data row9 col1\" >1.967</td>\n",
       "      <td id=\"T_6989a_row9_col2\" class=\"data row9 col2\" >-1.555</td>\n",
       "      <td id=\"T_6989a_row9_col3\" class=\"data row9 col3\" >0.427</td>\n",
       "      <td id=\"T_6989a_row9_col4\" class=\"data row9 col4\" >1.860</td>\n",
       "      <td id=\"T_6989a_row9_col5\" class=\"data row9 col5\" >-1.128</td>\n",
       "      <td id=\"T_6989a_row9_col6\" class=\"data row9 col6\" >-1.388</td>\n",
       "      <td id=\"T_6989a_row9_col7\" class=\"data row9 col7\" >-0.714</td>\n",
       "      <td id=\"T_6989a_row9_col8\" class=\"data row9 col8\" >-1.782</td>\n",
       "      <td id=\"T_6989a_row9_col9\" class=\"data row9 col9\" >0.819</td>\n",
       "      <td id=\"T_6989a_row9_col10\" class=\"data row9 col10\" >1</td>\n",
       "    </tr>\n",
       "  </tbody>\n",
       "</table>\n"
      ],
      "text/plain": [
       "<pandas.io.formats.style.Styler at 0x7f0bc9b43610>"
      ]
     },
     "metadata": {},
     "output_type": "display_data"
    }
   ],
   "source": [
    "#hide_input\n",
    "display(\n",
    "    df_X.head(10).assign(\n",
    "        target=s_y.to_frame().head(10)\n",
    "    ).style.format(\"{:.3f}\", subset=list(df_X)).set_caption(\n",
    "        \"First ten rows of independent (var_*) and dependent (target) variables in the data\"\n",
    "    )\n",
    ")"
   ]
  },
  {
   "cell_type": "markdown",
   "id": "ce00a537-8167-4d42-abfd-103068f58459",
   "metadata": {},
   "source": [
    "### Create training and testing splits of the overall dataset"
   ]
  },
  {
   "cell_type": "markdown",
   "id": "4555f1db-2e11-4676-beef-994eccfe5512",
   "metadata": {},
   "source": [
    "We will split the generated data into the required training and testing splits"
   ]
  },
  {
   "cell_type": "code",
   "execution_count": 8,
   "id": "91d9cd3e-874b-446a-8f42-19efb8fdc91a",
   "metadata": {},
   "outputs": [],
   "source": [
    "X_train, X_test, y_train, y_test = train_test_split(X, y, test_size=0.30)"
   ]
  },
  {
   "cell_type": "markdown",
   "id": "8355e6ba-ff48-45fb-b072-0760434ba0fe",
   "metadata": {},
   "source": [
    "The classes in the training split from the synthetic dataset are balanced, as shown below"
   ]
  },
  {
   "cell_type": "code",
   "execution_count": 9,
   "id": "0b64690a-6c1d-4d0b-8b78-54bc87e37859",
   "metadata": {},
   "outputs": [
    {
     "data": {
      "image/png": "[encoded data removed]",
      "text/plain": [
       "<Figure size 432x432 with 1 Axes>"
      ]
     },
     "metadata": {},
     "output_type": "display_data"
    }
   ],
   "source": [
    "#hide_input\n",
    "with sns.axes_style(\"ticks\"):\n",
    "    ax = sns.barplot(\n",
    "        x=\"index\",\n",
    "        y=0,\n",
    "        data=pd.Series(y_train).value_counts().reset_index(),\n",
    "        saturation=0.5,\n",
    "    )\n",
    "    ax.set_title(\n",
    "        \"Class Balance (training data)\",\n",
    "        loc=\"left\",\n",
    "        fontweight=\"bold\",\n",
    "    )\n",
    "    ax.set_xlabel(None)\n",
    "    ax.set_ylabel(None)\n",
    "    ax.xaxis.set_tick_params(length=0)\n",
    "    ax.get_yaxis().set_major_formatter(FuncFormatter(lambda x, p: format(int(x), ',')))\n",
    "    sns.despine()\n",
    "    fig = plt.gcf()\n",
    "    fig.set_figheight(6)\n",
    "    fig.set_figwidth(6)"
   ]
  },
  {
   "cell_type": "markdown",
   "id": "a3b97414-c72d-4aed-9bcc-08fb598553de",
   "metadata": {},
   "source": [
    "So, we don't need to re-balance the data before passing it to the Random Forest algorithm."
   ]
  },
  {
   "cell_type": "markdown",
   "id": "7b547069-cfb1-42f3-bf26-1201c728dd95",
   "metadata": {},
   "source": [
    "### Feature Selection"
   ]
  },
  {
   "cell_type": "markdown",
   "id": "ffd1d00d-dd03-462a-8886-ea970e1307b7",
   "metadata": {},
   "source": [
    "Below is a heatmap of the feature-to-feature correlatoin between every pair of features in the synthetic data we are working with"
   ]
  },
  {
   "cell_type": "code",
   "execution_count": 10,
   "id": "cb8c2416-8749-407a-b8b4-3eae8a35bc26",
   "metadata": {},
   "outputs": [
    {
     "data": {
      "image/png": "[encoded data removed]",
      "text/plain": [
       "<Figure size 576x576 with 2 Axes>"
      ]
     },
     "metadata": {},
     "output_type": "display_data"
    }
   ],
   "source": [
    "#hide_input\n",
    "df_corr = pd.DataFrame(X_train, columns=list(df_X)).corr()\n",
    "mask_ut = np.triu(np.ones(df_corr.shape)).astype(bool)\n",
    "\n",
    "with sns.axes_style(\"ticks\"):\n",
    "    ax = sns.heatmap(\n",
    "        data=df_corr,\n",
    "        linewidths=0.5,\n",
    "        cmap=\"YlOrRd\",\n",
    "        mask=mask_ut,\n",
    "    )\n",
    "    ax.set_title(\"Feature Correlation Heatmap\", loc=\"left\", fontweight=\"bold\")\n",
    "    ax.set_xlabel(None)\n",
    "    ax.set_ylabel(None)\n",
    "    sns.despine()\n",
    "    ax.xaxis.set_tick_params(length=0)\n",
    "    ax.yaxis.set_tick_params(length=0)\n",
    "    fig = plt.gcf()\n",
    "    fig.set_figheight(8)\n",
    "    fig.set_figwidth(8)"
   ]
  },
  {
   "cell_type": "markdown",
   "id": "d34a1b85-f38d-4d1f-921d-6bd5a37658d4",
   "metadata": {},
   "source": [
    "There is some evidence of multi-feature correlation which will result in KNN not working properly. In a simple case of two uncorrelated features, each contributes equally to the distance calculation. If a third feature, that is correlated to one of the existing features, is added then this feature is almost a copy of one of the other two. A combination of the two correlated features will have a greater impact on the distance, which will negatively impact accuracy of the algorithm.\n",
    "\n",
    "A general ML-related problem with multi-feature correlation, independent of KNN, is interpreting how such features impact the output and relate to eachother.\n",
    "\n",
    "For these two reasons, we'll drop the `var_2` which is correlated with `var_4`, `var_7`, `var_8` and `var_10`. Also, `var_6` appears to be correlated with a few features so it too can be dropped."
   ]
  },
  {
   "cell_type": "code",
   "execution_count": 11,
   "id": "30f8f426-fed0-47fc-89e0-5a1342eb9325",
   "metadata": {},
   "outputs": [],
   "source": [
    "selected_cols = list(df_X)\n",
    "selected_cols = list(set(list(df_X)) - set([\"var_2\", \"var_6\"]))\n",
    "X_train = pd.DataFrame(X_train, columns=list(df_X)).drop(columns=[\"var_2\", \"var_6\"]).to_numpy()\n",
    "X_test = pd.DataFrame(X_test, columns=list(df_X)).drop(columns=[\"var_2\", \"var_6\"]).to_numpy()"
   ]
  },
  {
   "cell_type": "markdown",
   "id": "094d072e-a21a-4d3b-8ac0-ad139ae05a5e",
   "metadata": {},
   "source": [
    "### Pre-Processing and Making Predictions"
   ]
  },
  {
   "cell_type": "markdown",
   "id": "b7ed26be-30c3-478b-a602-ca5a91b23c38",
   "metadata": {},
   "source": [
    "For algorithms that depend on distance, such as KNN, including features on different scales (range from min to max) means they affect the distance differently. All the nearest neighbors (shortest distances) will be follow the feature with a smaller range, inflating their importance. To prevent this, we'll use a two-step pipeline to first normalize all features (placing them on a scale from 0 to 1) before passing them to the algorithm for classification"
   ]
  },
  {
   "cell_type": "code",
   "execution_count": 12,
   "id": "954ace1a-62bb-45f8-815e-de4df28244fd",
   "metadata": {},
   "outputs": [
    {
     "name": "stdout",
     "output_type": "stream",
     "text": [
      "CPU times: user 8.79 s, sys: 870 ms, total: 9.66 s\n",
      "Wall time: 49.6 s\n"
     ]
    }
   ],
   "source": [
    "%%time\n",
    "pipe_manual = Pipeline(\n",
    "    [\n",
    "        (\"ss\", MinMaxScaler()),\n",
    "        (\"reg\", CustomKNN(k=5, threshold=0.5)),\n",
    "    ]\n",
    ")\n",
    "pipe_manual.fit(X_train, y_train)\n",
    "y_pred_manual = pipe_manual.predict(X_test)"
   ]
  },
  {
   "cell_type": "markdown",
   "id": "a279c2e1-b1a6-47c9-a2ab-85e6a6460941",
   "metadata": {},
   "source": [
    "Here, the algorithm is trained on the normalized training data and then makes predictions on the testing data."
   ]
  },
  {
   "cell_type": "markdown",
   "id": "b3f194c4-2441-4184-b67e-12d25842b740",
   "metadata": {},
   "source": [
    "### Comparison of Predictions to Built-in Implementation"
   ]
  },
  {
   "cell_type": "markdown",
   "id": "dc61b077-f9ed-491d-9a0f-40407a532bbd",
   "metadata": {},
   "source": [
    "We'll again apply normalization with the built-in KNN implementation from `scikit-learn` and make predictions on the testing data"
   ]
  },
  {
   "cell_type": "code",
   "execution_count": 13,
   "id": "ba5f0ba6-e489-49ab-aa6a-356b4e0d637b",
   "metadata": {},
   "outputs": [
    {
     "name": "stdout",
     "output_type": "stream",
     "text": [
      "CPU times: user 264 ms, sys: 1.91 ms, total: 265 ms\n",
      "Wall time: 264 ms\n"
     ]
    }
   ],
   "source": [
    "%%time\n",
    "pipe_builtin = Pipeline(\n",
    "    [\n",
    "        (\"ss\", MinMaxScaler()),\n",
    "        (\"reg\", KNeighborsClassifier(n_neighbors=5)),\n",
    "    ]\n",
    ")\n",
    "pipe_builtin.fit(X_train, y_train)\n",
    "y_pred_builtin = pipe_builtin.predict(X_test)"
   ]
  },
  {
   "cell_type": "markdown",
   "id": "ffa4486f-9129-4d60-89d2-6b4c480bb928",
   "metadata": {},
   "source": [
    "The first and last five rows of the testing data, including the predicted labels with the manually implemented and built-in approaches are shown below"
   ]
  },
  {
   "cell_type": "code",
   "execution_count": 14,
   "id": "8bfef4f5-6c02-4754-9656-bf96f6c0c4a7",
   "metadata": {},
   "outputs": [
    {
     "data": {
      "text/html": [
       "<style type=\"text/css\">\n",
       "</style>\n",
       "<table id=\"T_9eced_\">\n",
       "  <caption>First and Last 5 predictions of test split</caption>\n",
       "  <thead>\n",
       "    <tr>\n",
       "      <th class=\"blank level0\" >&nbsp;</th>\n",
       "      <th class=\"col_heading level0 col0\" >var_3</th>\n",
       "      <th class=\"col_heading level0 col1\" >var_10</th>\n",
       "      <th class=\"col_heading level0 col2\" >var_7</th>\n",
       "      <th class=\"col_heading level0 col3\" >var_8</th>\n",
       "      <th class=\"col_heading level0 col4\" >var_4</th>\n",
       "      <th class=\"col_heading level0 col5\" >var_9</th>\n",
       "      <th class=\"col_heading level0 col6\" >var_5</th>\n",
       "      <th class=\"col_heading level0 col7\" >var_1</th>\n",
       "      <th class=\"col_heading level0 col8\" >true</th>\n",
       "      <th class=\"col_heading level0 col9\" >manually_implemented_knn</th>\n",
       "      <th class=\"col_heading level0 col10\" >built_in_knn</th>\n",
       "    </tr>\n",
       "  </thead>\n",
       "  <tbody>\n",
       "    <tr>\n",
       "      <th id=\"T_9eced_level0_row0\" class=\"row_heading level0 row0\" >0</th>\n",
       "      <td id=\"T_9eced_row0_col0\" class=\"data row0 col0\" >-1.69</td>\n",
       "      <td id=\"T_9eced_row0_col1\" class=\"data row0 col1\" >1.55</td>\n",
       "      <td id=\"T_9eced_row0_col2\" class=\"data row0 col2\" >1.26</td>\n",
       "      <td id=\"T_9eced_row0_col3\" class=\"data row0 col3\" >1.64</td>\n",
       "      <td id=\"T_9eced_row0_col4\" class=\"data row0 col4\" >-0.82</td>\n",
       "      <td id=\"T_9eced_row0_col5\" class=\"data row0 col5\" >-1.61</td>\n",
       "      <td id=\"T_9eced_row0_col6\" class=\"data row0 col6\" >-0.94</td>\n",
       "      <td id=\"T_9eced_row0_col7\" class=\"data row0 col7\" >0.62</td>\n",
       "      <td id=\"T_9eced_row0_col8\" class=\"data row0 col8\" >0</td>\n",
       "      <td id=\"T_9eced_row0_col9\" class=\"data row0 col9\" >0</td>\n",
       "      <td id=\"T_9eced_row0_col10\" class=\"data row0 col10\" >0</td>\n",
       "    </tr>\n",
       "    <tr>\n",
       "      <th id=\"T_9eced_level0_row1\" class=\"row_heading level0 row1\" >1</th>\n",
       "      <td id=\"T_9eced_row1_col0\" class=\"data row1 col0\" >0.43</td>\n",
       "      <td id=\"T_9eced_row1_col1\" class=\"data row1 col1\" >0.47</td>\n",
       "      <td id=\"T_9eced_row1_col2\" class=\"data row1 col2\" >5.14</td>\n",
       "      <td id=\"T_9eced_row1_col3\" class=\"data row1 col3\" >1.32</td>\n",
       "      <td id=\"T_9eced_row1_col4\" class=\"data row1 col4\" >-1.25</td>\n",
       "      <td id=\"T_9eced_row1_col5\" class=\"data row1 col5\" >0.47</td>\n",
       "      <td id=\"T_9eced_row1_col6\" class=\"data row1 col6\" >-4.45</td>\n",
       "      <td id=\"T_9eced_row1_col7\" class=\"data row1 col7\" >-1.15</td>\n",
       "      <td id=\"T_9eced_row1_col8\" class=\"data row1 col8\" >1</td>\n",
       "      <td id=\"T_9eced_row1_col9\" class=\"data row1 col9\" >1</td>\n",
       "      <td id=\"T_9eced_row1_col10\" class=\"data row1 col10\" >1</td>\n",
       "    </tr>\n",
       "    <tr>\n",
       "      <th id=\"T_9eced_level0_row2\" class=\"row_heading level0 row2\" >2</th>\n",
       "      <td id=\"T_9eced_row2_col0\" class=\"data row2 col0\" >-0.31</td>\n",
       "      <td id=\"T_9eced_row2_col1\" class=\"data row2 col1\" >-0.25</td>\n",
       "      <td id=\"T_9eced_row2_col2\" class=\"data row2 col2\" >1.33</td>\n",
       "      <td id=\"T_9eced_row2_col3\" class=\"data row2 col3\" >-0.37</td>\n",
       "      <td id=\"T_9eced_row2_col4\" class=\"data row2 col4\" >-1.86</td>\n",
       "      <td id=\"T_9eced_row2_col5\" class=\"data row2 col5\" >-0.82</td>\n",
       "      <td id=\"T_9eced_row2_col6\" class=\"data row2 col6\" >-1.86</td>\n",
       "      <td id=\"T_9eced_row2_col7\" class=\"data row2 col7\" >3.11</td>\n",
       "      <td id=\"T_9eced_row2_col8\" class=\"data row2 col8\" >1</td>\n",
       "      <td id=\"T_9eced_row2_col9\" class=\"data row2 col9\" >0</td>\n",
       "      <td id=\"T_9eced_row2_col10\" class=\"data row2 col10\" >0</td>\n",
       "    </tr>\n",
       "    <tr>\n",
       "      <th id=\"T_9eced_level0_row3\" class=\"row_heading level0 row3\" >3</th>\n",
       "      <td id=\"T_9eced_row3_col0\" class=\"data row3 col0\" >-0.10</td>\n",
       "      <td id=\"T_9eced_row3_col1\" class=\"data row3 col1\" >1.08</td>\n",
       "      <td id=\"T_9eced_row3_col2\" class=\"data row3 col2\" >1.03</td>\n",
       "      <td id=\"T_9eced_row3_col3\" class=\"data row3 col3\" >0.42</td>\n",
       "      <td id=\"T_9eced_row3_col4\" class=\"data row3 col4\" >-1.00</td>\n",
       "      <td id=\"T_9eced_row3_col5\" class=\"data row3 col5\" >-0.69</td>\n",
       "      <td id=\"T_9eced_row3_col6\" class=\"data row3 col6\" >-0.72</td>\n",
       "      <td id=\"T_9eced_row3_col7\" class=\"data row3 col7\" >1.42</td>\n",
       "      <td id=\"T_9eced_row3_col8\" class=\"data row3 col8\" >1</td>\n",
       "      <td id=\"T_9eced_row3_col9\" class=\"data row3 col9\" >0</td>\n",
       "      <td id=\"T_9eced_row3_col10\" class=\"data row3 col10\" >0</td>\n",
       "    </tr>\n",
       "    <tr>\n",
       "      <th id=\"T_9eced_level0_row4\" class=\"row_heading level0 row4\" >4</th>\n",
       "      <td id=\"T_9eced_row4_col0\" class=\"data row4 col0\" >-0.20</td>\n",
       "      <td id=\"T_9eced_row4_col1\" class=\"data row4 col1\" >-1.56</td>\n",
       "      <td id=\"T_9eced_row4_col2\" class=\"data row4 col2\" >2.14</td>\n",
       "      <td id=\"T_9eced_row4_col3\" class=\"data row4 col3\" >-3.30</td>\n",
       "      <td id=\"T_9eced_row4_col4\" class=\"data row4 col4\" >-1.08</td>\n",
       "      <td id=\"T_9eced_row4_col5\" class=\"data row4 col5\" >0.42</td>\n",
       "      <td id=\"T_9eced_row4_col6\" class=\"data row4 col6\" >-2.08</td>\n",
       "      <td id=\"T_9eced_row4_col7\" class=\"data row4 col7\" >0.54</td>\n",
       "      <td id=\"T_9eced_row4_col8\" class=\"data row4 col8\" >1</td>\n",
       "      <td id=\"T_9eced_row4_col9\" class=\"data row4 col9\" >1</td>\n",
       "      <td id=\"T_9eced_row4_col10\" class=\"data row4 col10\" >1</td>\n",
       "    </tr>\n",
       "    <tr>\n",
       "      <th id=\"T_9eced_level0_row5\" class=\"row_heading level0 row5\" >4495</th>\n",
       "      <td id=\"T_9eced_row5_col0\" class=\"data row5 col0\" >-1.35</td>\n",
       "      <td id=\"T_9eced_row5_col1\" class=\"data row5 col1\" >-1.63</td>\n",
       "      <td id=\"T_9eced_row5_col2\" class=\"data row5 col2\" >1.76</td>\n",
       "      <td id=\"T_9eced_row5_col3\" class=\"data row5 col3\" >-4.26</td>\n",
       "      <td id=\"T_9eced_row5_col4\" class=\"data row5 col4\" >-2.49</td>\n",
       "      <td id=\"T_9eced_row5_col5\" class=\"data row5 col5\" >-0.28</td>\n",
       "      <td id=\"T_9eced_row5_col6\" class=\"data row5 col6\" >-4.27</td>\n",
       "      <td id=\"T_9eced_row5_col7\" class=\"data row5 col7\" >-0.56</td>\n",
       "      <td id=\"T_9eced_row5_col8\" class=\"data row5 col8\" >0</td>\n",
       "      <td id=\"T_9eced_row5_col9\" class=\"data row5 col9\" >0</td>\n",
       "      <td id=\"T_9eced_row5_col10\" class=\"data row5 col10\" >0</td>\n",
       "    </tr>\n",
       "    <tr>\n",
       "      <th id=\"T_9eced_level0_row6\" class=\"row_heading level0 row6\" >4496</th>\n",
       "      <td id=\"T_9eced_row6_col0\" class=\"data row6 col0\" >-0.64</td>\n",
       "      <td id=\"T_9eced_row6_col1\" class=\"data row6 col1\" >-0.18</td>\n",
       "      <td id=\"T_9eced_row6_col2\" class=\"data row6 col2\" >-1.19</td>\n",
       "      <td id=\"T_9eced_row6_col3\" class=\"data row6 col3\" >1.73</td>\n",
       "      <td id=\"T_9eced_row6_col4\" class=\"data row6 col4\" >-3.63</td>\n",
       "      <td id=\"T_9eced_row6_col5\" class=\"data row6 col5\" >0.59</td>\n",
       "      <td id=\"T_9eced_row6_col6\" class=\"data row6 col6\" >-2.57</td>\n",
       "      <td id=\"T_9eced_row6_col7\" class=\"data row6 col7\" >1.45</td>\n",
       "      <td id=\"T_9eced_row6_col8\" class=\"data row6 col8\" >0</td>\n",
       "      <td id=\"T_9eced_row6_col9\" class=\"data row6 col9\" >1</td>\n",
       "      <td id=\"T_9eced_row6_col10\" class=\"data row6 col10\" >1</td>\n",
       "    </tr>\n",
       "    <tr>\n",
       "      <th id=\"T_9eced_level0_row7\" class=\"row_heading level0 row7\" >4497</th>\n",
       "      <td id=\"T_9eced_row7_col0\" class=\"data row7 col0\" >0.82</td>\n",
       "      <td id=\"T_9eced_row7_col1\" class=\"data row7 col1\" >-0.50</td>\n",
       "      <td id=\"T_9eced_row7_col2\" class=\"data row7 col2\" >-0.86</td>\n",
       "      <td id=\"T_9eced_row7_col3\" class=\"data row7 col3\" >-2.42</td>\n",
       "      <td id=\"T_9eced_row7_col4\" class=\"data row7 col4\" >-2.95</td>\n",
       "      <td id=\"T_9eced_row7_col5\" class=\"data row7 col5\" >-1.19</td>\n",
       "      <td id=\"T_9eced_row7_col6\" class=\"data row7 col6\" >-1.20</td>\n",
       "      <td id=\"T_9eced_row7_col7\" class=\"data row7 col7\" >2.00</td>\n",
       "      <td id=\"T_9eced_row7_col8\" class=\"data row7 col8\" >1</td>\n",
       "      <td id=\"T_9eced_row7_col9\" class=\"data row7 col9\" >1</td>\n",
       "      <td id=\"T_9eced_row7_col10\" class=\"data row7 col10\" >1</td>\n",
       "    </tr>\n",
       "    <tr>\n",
       "      <th id=\"T_9eced_level0_row8\" class=\"row_heading level0 row8\" >4498</th>\n",
       "      <td id=\"T_9eced_row8_col0\" class=\"data row8 col0\" >-1.85</td>\n",
       "      <td id=\"T_9eced_row8_col1\" class=\"data row8 col1\" >0.92</td>\n",
       "      <td id=\"T_9eced_row8_col2\" class=\"data row8 col2\" >-0.17</td>\n",
       "      <td id=\"T_9eced_row8_col3\" class=\"data row8 col3\" >1.84</td>\n",
       "      <td id=\"T_9eced_row8_col4\" class=\"data row8 col4\" >0.29</td>\n",
       "      <td id=\"T_9eced_row8_col5\" class=\"data row8 col5\" >3.89</td>\n",
       "      <td id=\"T_9eced_row8_col6\" class=\"data row8 col6\" >1.18</td>\n",
       "      <td id=\"T_9eced_row8_col7\" class=\"data row8 col7\" >-2.13</td>\n",
       "      <td id=\"T_9eced_row8_col8\" class=\"data row8 col8\" >0</td>\n",
       "      <td id=\"T_9eced_row8_col9\" class=\"data row8 col9\" >0</td>\n",
       "      <td id=\"T_9eced_row8_col10\" class=\"data row8 col10\" >0</td>\n",
       "    </tr>\n",
       "    <tr>\n",
       "      <th id=\"T_9eced_level0_row9\" class=\"row_heading level0 row9\" >4499</th>\n",
       "      <td id=\"T_9eced_row9_col0\" class=\"data row9 col0\" >-2.95</td>\n",
       "      <td id=\"T_9eced_row9_col1\" class=\"data row9 col1\" >0.36</td>\n",
       "      <td id=\"T_9eced_row9_col2\" class=\"data row9 col2\" >2.16</td>\n",
       "      <td id=\"T_9eced_row9_col3\" class=\"data row9 col3\" >5.57</td>\n",
       "      <td id=\"T_9eced_row9_col4\" class=\"data row9 col4\" >-1.29</td>\n",
       "      <td id=\"T_9eced_row9_col5\" class=\"data row9 col5\" >1.92</td>\n",
       "      <td id=\"T_9eced_row9_col6\" class=\"data row9 col6\" >0.74</td>\n",
       "      <td id=\"T_9eced_row9_col7\" class=\"data row9 col7\" >-2.31</td>\n",
       "      <td id=\"T_9eced_row9_col8\" class=\"data row9 col8\" >0</td>\n",
       "      <td id=\"T_9eced_row9_col9\" class=\"data row9 col9\" >0</td>\n",
       "      <td id=\"T_9eced_row9_col10\" class=\"data row9 col10\" >0</td>\n",
       "    </tr>\n",
       "  </tbody>\n",
       "</table>\n"
      ],
      "text/plain": [
       "<pandas.io.formats.style.Styler at 0x7f0bc77a5df0>"
      ]
     },
     "metadata": {},
     "output_type": "display_data"
    }
   ],
   "source": [
    "#hide_input\n",
    "df_pred_compare = pd.Series(y_pred_manual, name=\"manually_implemented_knn\").to_frame().merge(\n",
    "    pd.Series(y_pred_builtin, name=\"built_in_knn\").to_frame(),\n",
    "    left_index=True,\n",
    "    right_index=True,\n",
    ")\n",
    "df_test_pred_compare = pd.DataFrame(X_test, columns=selected_cols).assign(true=y_test).merge(\n",
    "    df_pred_compare,\n",
    "    left_index=True,\n",
    "    right_index=True,\n",
    ")\n",
    "display(\n",
    "    df_test_pred_compare.head(5).append(df_test_pred_compare.tail(5))\n",
    "    .style\n",
    "    .format(\"{:.2f}\", subset=selected_cols)\n",
    "    .set_caption(\"First and Last 5 predictions of test split\")\n",
    ")"
   ]
  },
  {
   "cell_type": "markdown",
   "id": "d6b8be4a-cd43-4893-92b7-87985fc7d500",
   "metadata": {},
   "source": [
    "It is clear that neither implementation is perfectly predicting the true class labels of the test set. But, they do appear to be performing equivalently which is encouranging. Due to the absence of the `for` loop, the built-in approach is significantly faster."
   ]
  },
  {
   "cell_type": "markdown",
   "id": "f03bbe10-2199-4146-8efd-9d8a0c84b03b",
   "metadata": {},
   "source": [
    "We'll explicity verify that there is no observation where a different class is predicted using the manually implemented and built-in versions of the KNN algorithm"
   ]
  },
  {
   "cell_type": "code",
   "execution_count": 15,
   "id": "968f7890-b52c-453f-984d-089d48fd6436",
   "metadata": {},
   "outputs": [
    {
     "name": "stdout",
     "output_type": "stream",
     "text": [
      "Did not find mismatch between predictions of each implementation\n"
     ]
    }
   ],
   "source": [
    "df_mismatched = df_pred_compare.query(\"manually_implemented_knn != built_in_knn\")\n",
    "try:\n",
    "    assert df_mismatched.empty\n",
    "    print(\"Did not find mismatch between predictions of each implementation\")\n",
    "except AssertionError as _:\n",
    "    print(f\"Find {len(df_mismatched):,} mismatches between predictions of each implementation\")"
   ]
  },
  {
   "cell_type": "markdown",
   "id": "3b05d382-0b3d-4d3e-b4e3-3801e81a6dbd",
   "metadata": {},
   "source": [
    "Below is a comparison of the number of predictions of each true label in the test set, and the predictions made with each version"
   ]
  },
  {
   "cell_type": "code",
   "execution_count": 16,
   "id": "134e22c5-cf49-4afa-a260-924f30ee0f33",
   "metadata": {},
   "outputs": [
    {
     "data": {
      "text/html": [
       "<style type=\"text/css\">\n",
       "</style>\n",
       "<table id=\"T_e187d_\">\n",
       "  <caption>Predicted labels by class</caption>\n",
       "  <thead>\n",
       "    <tr>\n",
       "      <th class=\"blank level0\" >&nbsp;</th>\n",
       "      <th class=\"col_heading level0 col0\" >true</th>\n",
       "      <th class=\"col_heading level0 col1\" >manual</th>\n",
       "      <th class=\"col_heading level0 col2\" >built-in</th>\n",
       "    </tr>\n",
       "  </thead>\n",
       "  <tbody>\n",
       "    <tr>\n",
       "      <th id=\"T_e187d_level0_row0\" class=\"row_heading level0 row0\" >0</th>\n",
       "      <td id=\"T_e187d_row0_col0\" class=\"data row0 col0\" >2262</td>\n",
       "      <td id=\"T_e187d_row0_col1\" class=\"data row0 col1\" >2320</td>\n",
       "      <td id=\"T_e187d_row0_col2\" class=\"data row0 col2\" >2320</td>\n",
       "    </tr>\n",
       "    <tr>\n",
       "      <th id=\"T_e187d_level0_row1\" class=\"row_heading level0 row1\" >1</th>\n",
       "      <td id=\"T_e187d_row1_col0\" class=\"data row1 col0\" >2238</td>\n",
       "      <td id=\"T_e187d_row1_col1\" class=\"data row1 col1\" >2180</td>\n",
       "      <td id=\"T_e187d_row1_col2\" class=\"data row1 col2\" >2180</td>\n",
       "    </tr>\n",
       "  </tbody>\n",
       "</table>\n"
      ],
      "text/plain": [
       "<pandas.io.formats.style.Styler at 0x7f0bc7640280>"
      ]
     },
     "metadata": {},
     "output_type": "display_data"
    }
   ],
   "source": [
    "#hide_input\n",
    "df_pred_summary = pd.Series(y_test).value_counts().rename(\"true\").to_frame().merge(\n",
    "    pd.Series(y_pred_manual).value_counts().rename(\"manual\").to_frame(),\n",
    "    left_index=True,\n",
    "    right_index=True,\n",
    ").merge(\n",
    "    pd.Series(y_pred_builtin).value_counts().rename(\"built-in\").to_frame(),\n",
    "    left_index=True,\n",
    "    right_index=True,\n",
    ")\n",
    "display(df_pred_summary.style.set_caption(\"Predicted labels by class\"))"
   ]
  },
  {
   "cell_type": "markdown",
   "id": "9eabea1f-7d4a-4d76-84ed-cd6a0721e8f3",
   "metadata": {},
   "source": [
    "This is visually shown below"
   ]
  },
  {
   "cell_type": "code",
   "execution_count": 17,
   "id": "b5f3c1ae-55d0-4386-80ea-d1e748ca0d25",
   "metadata": {},
   "outputs": [
    {
     "data": {
      "image/png": "[encoded data removed]",
      "text/plain": [
       "<Figure size 432x576 with 1 Axes>"
      ]
     },
     "metadata": {},
     "output_type": "display_data"
    }
   ],
   "source": [
    "#hide_input\n",
    "df_pred_summary_reshaped = df_pred_summary.stack().reset_index().rename(\n",
    "    columns={\"level_0\": \"class_label\", \"level_1\": \"type\", 0: \"count\"}\n",
    ")\n",
    "with sns.axes_style(\"ticks\"):\n",
    "    ax = sns.barplot(\n",
    "        y=\"count\",\n",
    "        x=\"class_label\",\n",
    "        hue=\"type\",\n",
    "        data=df_pred_summary_reshaped,\n",
    "    )\n",
    "    ax.set_title(\"True and predicted labels\", loc=\"left\", fontweight=\"bold\")\n",
    "    ax.set_xlabel(\"Class\")\n",
    "    ax.set_ylabel(\"Number of Observations\")\n",
    "    ax.xaxis.set_tick_params(length=0)\n",
    "    ax.legend(\n",
    "        ncol=1,\n",
    "        loc=\"upper left\",\n",
    "        bbox_to_anchor=(0.95, 1.0),\n",
    "        frameon=False,\n",
    "        handletextpad=0.2,\n",
    "        columnspacing=0.5,\n",
    "    )\n",
    "    ax.get_yaxis().set_major_formatter(FuncFormatter(lambda x, p: format(int(x), ',')))\n",
    "    ax.legend_.set_title(None)\n",
    "    sns.despine()\n",
    "    fig = plt.gcf()\n",
    "    fig.set_figheight(8)\n",
    "    fig.set_figwidth(6)"
   ]
  },
  {
   "cell_type": "markdown",
   "id": "798301e4-f1c1-4361-bcb3-a1bdc033c26f",
   "metadata": {},
   "source": [
    "We can see that these aggregated counts of predictions for each label, with the manually implemented and built-in versions, agree with eachother."
   ]
  },
  {
   "cell_type": "markdown",
   "id": "03eb6fd6-1023-46a1-abb8-d03cfb6e55f3",
   "metadata": {},
   "source": [
    "Finally, we'll show a [confusion matrix](https://en.wikipedia.org/wiki/Confusion_matrix#Table_of_confusion) for each implementation"
   ]
  },
  {
   "cell_type": "code",
   "execution_count": 18,
   "id": "e355cc56-60c5-45bf-947b-b402b3c4ac54",
   "metadata": {},
   "outputs": [
    {
     "data": {
      "text/html": [
       "<style type=\"text/css\">\n",
       "</style>\n",
       "<table id=\"T_d5dfa_\">\n",
       "  <caption>Confusion Matrix for manually implemented KNN</caption>\n",
       "  <thead>\n",
       "    <tr>\n",
       "      <th class=\"index_name level0\" >Predicted</th>\n",
       "      <th class=\"col_heading level0 col0\" >class_label=0</th>\n",
       "      <th class=\"col_heading level0 col1\" >class_label=1</th>\n",
       "    </tr>\n",
       "    <tr>\n",
       "      <th class=\"index_name level0\" >True</th>\n",
       "      <th class=\"blank col0\" >&nbsp;</th>\n",
       "      <th class=\"blank col1\" >&nbsp;</th>\n",
       "    </tr>\n",
       "  </thead>\n",
       "  <tbody>\n",
       "    <tr>\n",
       "      <th id=\"T_d5dfa_level0_row0\" class=\"row_heading level0 row0\" >class_label=0</th>\n",
       "      <td id=\"T_d5dfa_row0_col0\" class=\"data row0 col0\" >1698</td>\n",
       "      <td id=\"T_d5dfa_row0_col1\" class=\"data row0 col1\" >564</td>\n",
       "    </tr>\n",
       "    <tr>\n",
       "      <th id=\"T_d5dfa_level0_row1\" class=\"row_heading level0 row1\" >class_label=1</th>\n",
       "      <td id=\"T_d5dfa_row1_col0\" class=\"data row1 col0\" >622</td>\n",
       "      <td id=\"T_d5dfa_row1_col1\" class=\"data row1 col1\" >1616</td>\n",
       "    </tr>\n",
       "  </tbody>\n",
       "</table>\n"
      ],
      "text/plain": [
       "<pandas.io.formats.style.Styler at 0x7f0bc762b400>"
      ]
     },
     "metadata": {},
     "output_type": "display_data"
    },
    {
     "data": {
      "text/html": [
       "<style type=\"text/css\">\n",
       "</style>\n",
       "<table id=\"T_30964_\">\n",
       "  <caption>Confusion Matrix for built-in KNN</caption>\n",
       "  <thead>\n",
       "    <tr>\n",
       "      <th class=\"index_name level0\" >Predicted</th>\n",
       "      <th class=\"col_heading level0 col0\" >class_label=0</th>\n",
       "      <th class=\"col_heading level0 col1\" >class_label=1</th>\n",
       "    </tr>\n",
       "    <tr>\n",
       "      <th class=\"index_name level0\" >True</th>\n",
       "      <th class=\"blank col0\" >&nbsp;</th>\n",
       "      <th class=\"blank col1\" >&nbsp;</th>\n",
       "    </tr>\n",
       "  </thead>\n",
       "  <tbody>\n",
       "    <tr>\n",
       "      <th id=\"T_30964_level0_row0\" class=\"row_heading level0 row0\" >class_label=0</th>\n",
       "      <td id=\"T_30964_row0_col0\" class=\"data row0 col0\" >1698</td>\n",
       "      <td id=\"T_30964_row0_col1\" class=\"data row0 col1\" >564</td>\n",
       "    </tr>\n",
       "    <tr>\n",
       "      <th id=\"T_30964_level0_row1\" class=\"row_heading level0 row1\" >class_label=1</th>\n",
       "      <td id=\"T_30964_row1_col0\" class=\"data row1 col0\" >622</td>\n",
       "      <td id=\"T_30964_row1_col1\" class=\"data row1 col1\" >1616</td>\n",
       "    </tr>\n",
       "  </tbody>\n",
       "</table>\n"
      ],
      "text/plain": [
       "<pandas.io.formats.style.Styler at 0x7f0bc74fd2b0>"
      ]
     },
     "metadata": {},
     "output_type": "display_data"
    }
   ],
   "source": [
    "#hide_input\n",
    "labels = pd.Index([f\"class_label={label}\" for label in [0, 1]], name=\"True\")\n",
    "df_cm_manual = pd.DataFrame(\n",
    "    confusion_matrix(y_test, y_pred_manual), index=labels\n",
    ").add_prefix(\"class_label=\").rename_axis(\"Predicted\", axis=1)\n",
    "df_cm_builtin = pd.DataFrame(\n",
    "    confusion_matrix(y_test, y_pred_builtin), index=labels\n",
    ").add_prefix(\"class_label=\").rename_axis(\"Predicted\", axis=1)\n",
    "display(df_cm_manual.style.set_caption(\"Confusion Matrix for manually implemented KNN\"))\n",
    "display(df_cm_builtin.style.set_caption(\"Confusion Matrix for built-in KNN\"))"
   ]
  },
  {
   "cell_type": "markdown",
   "id": "57def2b2-a36a-4acd-8a82-5ee4c0a25ea0",
   "metadata": {},
   "source": [
    "Visually, these confusion matrices are shown below"
   ]
  },
  {
   "cell_type": "code",
   "execution_count": 19,
   "id": "6b015c0e-6723-473d-aeb8-3471d2abcf4f",
   "metadata": {},
   "outputs": [
    {
     "data": {
      "image/png": "[encoded data removed]",
      "text/plain": [
       "<Figure size 864x216 with 2 Axes>"
      ]
     },
     "metadata": {
      "needs_background": "light"
     },
     "output_type": "display_data"
    }
   ],
   "source": [
    "#hide_input\n",
    "fig = plt.figure(figsize=(12, 3))\n",
    "grid = plt.GridSpec(1, 2, wspace=0.05)\n",
    "ax1 = fig.add_subplot(grid[0, 0], xticklabels=[])\n",
    "ax2 = fig.add_subplot(grid[0, 1], xticklabels=[])\n",
    "\n",
    "with sns.axes_style(\"ticks\"):\n",
    "    ax = sns.heatmap(\n",
    "        data=df_cm_manual,\n",
    "        linewidths=0.5,\n",
    "        cmap=\"YlOrRd\",\n",
    "        annot=True,\n",
    "        fmt=\",d\",\n",
    "        cbar=False,\n",
    "        ax=ax1,\n",
    "        annot_kws={\"size\": 16},\n",
    "    )\n",
    "    ax.set_title(\"Manual implementation\", loc=\"left\", fontweight=\"bold\")\n",
    "    ax.set_xlabel(\"Predicted\", fontweight=\"bold\")\n",
    "    ax.set_ylabel(\"True\", fontweight=\"bold\")\n",
    "    sns.despine()\n",
    "    ax.xaxis.set_tick_params(length=0)\n",
    "    ax.yaxis.set_tick_params(length=0)\n",
    "    fig = plt.gcf()\n",
    "\n",
    "with sns.axes_style(\"ticks\"):\n",
    "    ax = sns.heatmap(\n",
    "        data=df_cm_builtin,\n",
    "        linewidths=0.5,\n",
    "        cmap=\"YlOrRd\",\n",
    "        annot=True,\n",
    "        fmt=\",d\",\n",
    "        cbar=False,\n",
    "        ax=ax2,\n",
    "        annot_kws={\"size\": 16},\n",
    "    )\n",
    "    ax.set_title(\"Built-in version\", loc=\"left\", fontweight=\"bold\")\n",
    "    ax.set_xlabel(\"Predicted\", fontweight=\"bold\")\n",
    "    ax.set_yticklabels([])\n",
    "    ax.set_ylabel(None)\n",
    "    sns.despine()\n",
    "    ax.xaxis.set_tick_params(length=0)\n",
    "    ax.yaxis.set_tick_params(length=0)\n",
    "    fig = plt.gcf()"
   ]
  },
  {
   "cell_type": "markdown",
   "id": "fd7bf2c8-d935-4d6d-8bf9-8ff781a47134",
   "metadata": {},
   "source": [
    "As we can see, for binary classification, the predictions of the manual KNN implementation match those of the version provided by `scikit-learn`. The off-diagonal entries (in light yellow) indicate the incorrect predictions made by the algorithm. Tuning the number of nearest neighbours to consider can possibly reduce (improve) these incorrect predictions. As the scope here was focused on implementation of the algorithm, and there is agreement between the counts in these two confusion matrices, this suggests agreement between the manual implementation and `scikit-learn`'s built-in version."
   ]
  },
  {
   "cell_type": "markdown",
   "id": "9709550c-8e4d-483a-9d97-cb228c1ea1d4",
   "metadata": {},
   "source": [
    "## Limitations and Resources"
   ]
  },
  {
   "cell_type": "markdown",
   "id": "211098a9-401c-4b80-a211-50b4916e13ec",
   "metadata": {},
   "source": [
    "This was a walkthrough the implementation and use of the KNN algorithm from scratch. The focus here was on implementing the core logic of the algorithm. The version of the KNN classifier built in to `scikit-learn` offers additional functionality such as assigning the weights to points in a neighbourhood of a point of interest before selecting the `k` closest points. As al alternative to the brute force approach used here, for example, the [Ball Tree algorithm](https://en.wikipedia.org/wiki/Ball_tree) for data partitioning to improve the computation speed of `n`-point problems can be used.\n",
    "\n",
    "From a technical perspective, the implementation here is not ideal since it involves iterating over each observation in the test data leads to a slow computation time. The built-in implementation completed nearly instantly, but our manual implementation took nearly 45 seconds for this dataset of 15,000 rows. This problem only gets worse as the number of observations in the data increase. Multi-core parallelization provides some improvement, but, regrettably, the real increase in efficiency of this manual implementation comes from completely replacing the use of loops with [vectorization](https://en.wikipedia.org/wiki/Array_programming) using the `numpy` library in Python. This is done in the built-in version of this algorithm in `scikit-learn` ([1](https://scikit-learn.org/stable/modules/neighbors.html#nearest-neighbors)). Future iterations of this manual implementation should focus on using vectorization to speed up the KNN model's predictions."
   ]
  }
 ],
 "metadata": {
  "kernelspec": {
   "display_name": "Python 3 (ipykernel)",
   "language": "python",
   "name": "python3"
  },
  "language_info": {
   "codemirror_mode": {
    "name": "ipython",
    "version": 3
   },
   "file_extension": ".py",
   "mimetype": "text/x-python",
   "name": "python",
   "nbconvert_exporter": "python",
   "pygments_lexer": "ipython3",
   "version": "3.9.7"
  }
 },
 "nbformat": 4,
 "nbformat_minor": 5
}
